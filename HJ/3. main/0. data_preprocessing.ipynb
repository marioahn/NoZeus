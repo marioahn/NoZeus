{
 "cells": [
  {
   "cell_type": "markdown",
   "metadata": {},
   "source": [
    "# 데이터 전처리"
   ]
  },
  {
   "cell_type": "code",
   "execution_count": 2,
   "metadata": {},
   "outputs": [
    {
     "name": "stderr",
     "output_type": "stream",
     "text": [
      "C:\\Users\\mario\\AppData\\Local\\Temp\\ipykernel_16948\\4048632335.py:2: DeprecationWarning: \n",
      "Pyarrow will become a required dependency of pandas in the next major release of pandas (pandas 3.0),\n",
      "(to allow more performant data types, such as the Arrow string type, and better interoperability with other libraries)\n",
      "but was not found to be installed on your system.\n",
      "If this would cause problems for you,\n",
      "please provide us feedback at https://github.com/pandas-dev/pandas/issues/54466\n",
      "        \n",
      "  import pandas as pd\n"
     ]
    }
   ],
   "source": [
    "import warnings\n",
    "import pandas as pd\n",
    "import numpy as np\n",
    "\n",
    "warnings.filterwarnings(action = 'ignore') # warning 메시지 표시x"
   ]
  },
  {
   "cell_type": "markdown",
   "metadata": {},
   "source": [
    "### 0)네이버 쇼핑 리뷰 -> 200,000개 리뷰"
   ]
  },
  {
   "cell_type": "code",
   "execution_count": 21,
   "metadata": {},
   "outputs": [
    {
     "name": "stdout",
     "output_type": "stream",
     "text": [
      "<class 'pandas.core.frame.DataFrame'>\n",
      "RangeIndex: 200000 entries, 0 to 199999\n",
      "Data columns (total 2 columns):\n",
      " #   Column   Non-Null Count   Dtype \n",
      "---  ------   --------------   ----- \n",
      " 0   ratings  200000 non-null  int64 \n",
      " 1   reviews  200000 non-null  object\n",
      "dtypes: int64(1), object(1)\n",
      "memory usage: 3.1+ MB\n"
     ]
    },
    {
     "data": {
      "text/plain": [
       "label\n",
       "0    100037\n",
       "1     99963\n",
       "Name: count, dtype: Int64"
      ]
     },
     "execution_count": 21,
     "metadata": {},
     "output_type": "execute_result"
    }
   ],
   "source": [
    "naver_review = pd.read_table('../2. crawling_data/naver_shopping.txt', names=['ratings', 'reviews'])\n",
    "\n",
    "# 결측치 확인 -> x\n",
    "naver_review.info() \n",
    "\n",
    "# 4,5점은 긍정 / 1,2점은 부정으로 라벨링\n",
    "naver_review['ratings'].value_counts()\n",
    "'''\n",
    "5    81177\n",
    "2    63989\n",
    "1    36048\n",
    "4    18786\n",
    "'''\n",
    "# 3점은 np.nan -> 라벨링x\n",
    "naver_review['label'] = np.where(naver_review['ratings'] >=4, 1, np.where(naver_review['ratings'] <= 2, 0, np.nan))\n",
    "naver_review['label'] = naver_review['label'].astype('Int64')\n",
    "naver_review['label'].value_counts()\n",
    "'''\n",
    "0    100037\n",
    "1     99963\n",
    "'''"
   ]
  },
  {
   "cell_type": "markdown",
   "metadata": {},
   "source": [
    "### 1)삼성 버즈 -> 7500개 리뷰\n",
    "- (전처리) -> 6800개"
   ]
  },
  {
   "cell_type": "code",
   "execution_count": 40,
   "metadata": {},
   "outputs": [
    {
     "name": "stdout",
     "output_type": "stream",
     "text": [
      "<class 'pandas.core.frame.DataFrame'>\n",
      "RangeIndex: 7100 entries, 0 to 7099\n",
      "Data columns (total 4 columns):\n",
      " #   Column   Non-Null Count  Dtype \n",
      "---  ------   --------------  ----- \n",
      " 0   상품명      7100 non-null   object\n",
      " 1   구매자 이름   7100 non-null   object\n",
      " 2   구매자 평점   7100 non-null   int64 \n",
      " 3   리뷰제목&내용  7097 non-null   object\n",
      "dtypes: int64(1), object(3)\n",
      "memory usage: 222.0+ KB\n",
      "<class 'pandas.core.frame.DataFrame'>\n",
      "Index: 6800 entries, 0 to 7099\n",
      "Data columns (total 4 columns):\n",
      " #   Column   Non-Null Count  Dtype \n",
      "---  ------   --------------  ----- \n",
      " 0   상품명      6800 non-null   object\n",
      " 1   구매자 이름   6800 non-null   object\n",
      " 2   구매자 평점   6800 non-null   int64 \n",
      " 3   리뷰제목&내용  6800 non-null   object\n",
      "dtypes: int64(1), object(3)\n",
      "memory usage: 265.6+ KB\n"
     ]
    }
   ],
   "source": [
    "# 0. 크롤링 데이터 읽기\n",
    "buds1_df = pd.read_excel('../2. crawling_data/buds/삼성전자 갤럭시 버즈 FE.xlsx') # 1500개\n",
    "buds2_df = pd.read_excel('../2. crawling_data/buds/삼성전자 갤럭시 버즈2.xlsx') # 1500\n",
    "buds2_pro_df = pd.read_excel('../2. crawling_data/buds/삼성전자 갤럭시 버즈2 프로.xlsx') # 1500\n",
    "buds_live_df = pd.read_excel('../2. crawling_data/buds/삼성전자 갤럭시버즈 라이브.xlsx') # 1500\n",
    "buds_plus_df = pd.read_excel('../2. crawling_data/buds/삼성전자 갤럭시버즈 플러스.xlsx') # 1100\n",
    "\n",
    "# 1. 5개 합치기\n",
    "samsung_all_buds = pd.concat([buds1_df, buds2_df, buds2_pro_df, buds_live_df, buds_plus_df], ignore_index=True)\n",
    "samsung_all_buds # 7100개\n",
    "\n",
    "# 2. 리뷰제목+리뷰내용 합친 컬럼 새로 만들고, 리뷰제목&내용 컬럼 drop\n",
    "samsung_all_buds['리뷰제목&내용'] = samsung_all_buds['리뷰 제목'] + \" \" + samsung_all_buds['리뷰 내용']\n",
    "samsung_all_buds.drop(['리뷰 제목', '리뷰 내용', '맛 만족도'], axis=1, inplace=True)\n",
    "samsung_all_buds\n",
    "\n",
    "# 3. 결측치 확인 및 제거 & 평점3점은 제거\n",
    "    # 리뷰제목&내용  7097 non-nul\n",
    "samsung_all_buds.info()\n",
    "samsung_all_buds = samsung_all_buds.dropna() \n",
    "samsung_all_buds = samsung_all_buds.query('`구매자 평점` != 3') # samsung_all_buds = samsung_all_buds[samsung_all_buds['구매자 평점'] != 3]\n",
    "samsung_all_buds.info()\n",
    "\n",
    "# 4. 평점 분포 확인\n",
    "samsung_all_buds['구매자 평점'].value_counts()\n",
    "'''\n",
    "5    5703\n",
    "4     838\n",
    "2     103\n",
    "1     159\n",
    "'''\n",
    "\n",
    "# 5. 라벨링 -> 4점이상은 1, 2점이하는 0 // 3점은 제외\n",
    "samsung_all_buds['label'] = np.where(samsung_all_buds['구매자 평점'] >=4, 1, np.where(samsung_all_buds['구매자 평점'] <= 2, 0, np.nan))\n",
    "samsung_all_buds['label'] = samsung_all_buds['label'].astype('Int64')\n",
    "samsung_all_buds['label'].value_counts()\n",
    "'''\n",
    "label\n",
    "1    6541\n",
    "0     262\n",
    "'''\n",
    "\n",
    "# 6. Final: 엑셀로 저장\n",
    "samsung_all_buds.to_excel('samsung_all_buds.xlsx', index=False)"
   ]
  },
  {
   "cell_type": "markdown",
   "metadata": {},
   "source": [
    "### 2)애플 에어팟 -> 7495개 리뷰\n",
    "- (전처리) -> 7260개"
   ]
  },
  {
   "cell_type": "code",
   "execution_count": 12,
   "metadata": {},
   "outputs": [
    {
     "name": "stdout",
     "output_type": "stream",
     "text": [
      "<class 'pandas.core.frame.DataFrame'>\n",
      "RangeIndex: 7495 entries, 0 to 7494\n",
      "Data columns (total 4 columns):\n",
      " #   Column   Non-Null Count  Dtype \n",
      "---  ------   --------------  ----- \n",
      " 0   상품명      7495 non-null   object\n",
      " 1   구매자 이름   7494 non-null   object\n",
      " 2   구매자 평점   7495 non-null   int64 \n",
      " 3   리뷰제목&내용  7495 non-null   object\n",
      "dtypes: int64(1), object(3)\n",
      "memory usage: 234.3+ KB\n"
     ]
    },
    {
     "data": {
      "text/plain": [
       "'\\nlabel\\n1    6541\\n0     262\\n'"
      ]
     },
     "execution_count": 12,
     "metadata": {},
     "output_type": "execute_result"
    }
   ],
   "source": [
    "# 0. 크롤링 데이터 읽기\n",
    "airpods_df = pd.read_excel('../2. crawling_data/airpods/애플 에어팟.xlsx') # 1500개\n",
    "airpods2_df = pd.read_excel('../2. crawling_data/airpods/애플 에어팟 2세대.xlsx') # 1495\n",
    "airpods2_pro_df = pd.read_excel('../2. crawling_data/airpods/애플 에어팟 2세대 프로_2023.xlsx') # 1500\n",
    "airpods3_2021_df = pd.read_excel('../2. crawling_data/airpods/애플 에어팟 3세대_2021.xlsx') # 1500\n",
    "airpods3_2022_df = pd.read_excel('../2. crawling_data/airpods/애플 에어팟 3세대_2022.xlsx') # 1500\n",
    "\n",
    "# 1. 5개 합치기\n",
    "apple_all_airpods = pd.concat([airpods_df, airpods2_df, airpods2_pro_df, airpods3_2021_df, airpods3_2022_df], ignore_index=True)\n",
    "apple_all_airpods # 7495개\n",
    "\n",
    "# 2. 리뷰제목+리뷰내용 합친 컬럼 새로 만들고, 리뷰제목&내용 컬럼 drop\n",
    "apple_all_airpods['리뷰제목&내용'] = apple_all_airpods['리뷰 제목'] + \" \" + apple_all_airpods['리뷰 내용']\n",
    "apple_all_airpods.drop(['리뷰 제목', '리뷰 내용', '맛 만족도'], axis=1, inplace=True)\n",
    "\n",
    "# 3. 결측치 확인 및 제거 & 평점3점은 제거\n",
    "    # 리뷰제목&내용  7097 non-nul\n",
    "apple_all_airpods.info()\n",
    "apple_all_airpods = apple_all_airpods.dropna() \n",
    "apple_all_airpods = apple_all_airpods.query('`구매자 평점` != 3') # apple_all_airpods = apple_all_airpods[apple_all_airpods['구매자 평점'] != 3]\n",
    "\n",
    "# 4. 평점 분포 확인\n",
    "apple_all_airpods['구매자 평점'].value_counts()\n",
    "'''\n",
    "5    6234\n",
    "4     716\n",
    "1     227\n",
    "2      82\n",
    "'''\n",
    "\n",
    "# 5. 라벨링 -> 4점이상은 1, 2점이하는 0 // 3점은 제외\n",
    "apple_all_airpods\n",
    "apple_all_airpods['label'] = np.where(apple_all_airpods['구매자 평점'] >=4, 1, np.where(apple_all_airpods['구매자 평점'] <= 2, 0, np.nan))\n",
    "apple_all_airpods['label'] = apple_all_airpods['label'].astype('Int64')\n",
    "apple_all_airpods['label'].value_counts()\n",
    "\n",
    "# 6. Final: 엑셀로 저장\n",
    "apple_all_airpods.to_excel('apple_all_airpods.xlsx', index=False)"
   ]
  },
  {
   "cell_type": "markdown",
   "metadata": {},
   "source": [
    "### 3)삼성+애플"
   ]
  },
  {
   "cell_type": "code",
   "execution_count": 20,
   "metadata": {},
   "outputs": [],
   "source": [
    "samsung_all_buds = pd.read_excel('samsung_all_buds.xlsx') # 1500개\n",
    "apple_all_airpods = pd.read_excel('apple_all_airpods.xlsx') # 1500개\n",
    "\n",
    "samsung_all_buds # 6800개\n",
    "apple_all_airpods # 7259\n",
    "\n",
    "coupang_reviews = pd.concat([samsung_all_buds, apple_all_airpods], ignore_index=True)\n",
    "coupang_reviews # 14059\n",
    "\n",
    "coupang_reviews['label'].value_counts()\n",
    "'''\n",
    "label\n",
    "1    13488\n",
    "0      571\n",
    "'''\n",
    "\n",
    "# 최종 전처리 데이터를 xlsx로 저장\n",
    "coupang_reviews.to_excel('coupang_reviews.xlsx', index=False)"
   ]
  },
  {
   "cell_type": "code",
   "execution_count": null,
   "metadata": {},
   "outputs": [],
   "source": []
  },
  {
   "cell_type": "code",
   "execution_count": null,
   "metadata": {},
   "outputs": [],
   "source": []
  }
 ],
 "metadata": {
  "kernelspec": {
   "display_name": "Python 3",
   "language": "python",
   "name": "python3"
  },
  "language_info": {
   "codemirror_mode": {
    "name": "ipython",
    "version": 3
   },
   "file_extension": ".py",
   "mimetype": "text/x-python",
   "name": "python",
   "nbconvert_exporter": "python",
   "pygments_lexer": "ipython3",
   "version": "3.10.4"
  }
 },
 "nbformat": 4,
 "nbformat_minor": 2
}
