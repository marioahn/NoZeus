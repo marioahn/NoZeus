{
 "cells": [
  {
   "cell_type": "markdown",
   "metadata": {},
   "source": [
    "# 감성분석 모델 구축"
   ]
  },
  {
   "cell_type": "code",
   "execution_count": null,
   "metadata": {},
   "outputs": [],
   "source": [
    "# ! pip install scikit-learn\n",
    "# ! pip install konlpy"
   ]
  },
  {
   "cell_type": "code",
   "execution_count": null,
   "metadata": {},
   "outputs": [],
   "source": [
    "import re\n",
    "import warnings\n",
    "import pandas as pd\n",
    "import numpy as np\n",
    "import matplotlib.pyplot as plt\n",
    "import urllib.request\n",
    "from collections import Counter\n",
    "from konlpy.tag import Okt\n",
    "from sklearn.model_selection import train_test_split\n",
    "from sklearn.feature_extraction.text import TfidfVectorizer\n",
    "from sklearn.linear_model import LogisticRegression\n",
    "from sklearn.model_selection import GridSearchCV\n",
    "from sklearn.metrics import accuracy_score\n",
    "# from konlpy.tag import Mecab\n",
    "# from tensorflow.keras.preprocessing.text import Tokenizer\n",
    "# from tensorflow.keras.preprocessing.sequence import pad_sequences\n",
    "\n",
    "warnings.filterwarnings(action = 'ignore') # warning 메시지 표시x"
   ]
  },
  {
   "cell_type": "markdown",
   "metadata": {},
   "source": [
    "### 2. 훈련모델Ⅱ - 200,000개 + 14,060개\n",
    "- 네이버 쇼핑 리뷰로 훈련(train)\n",
    "- 쿠팡리뷰로 평가(test)"
   ]
  },
  {
   "cell_type": "code",
   "execution_count": 14,
   "metadata": {},
   "outputs": [
    {
     "name": "stdout",
     "output_type": "stream",
     "text": [
      "훈련용 리뷰의 개수 : 200000\n",
      "테스트용 리뷰의 개수 : 14060\n"
     ]
    },
    {
     "data": {
      "text/html": [
       "<div>\n",
       "<style scoped>\n",
       "    .dataframe tbody tr th:only-of-type {\n",
       "        vertical-align: middle;\n",
       "    }\n",
       "\n",
       "    .dataframe tbody tr th {\n",
       "        vertical-align: top;\n",
       "    }\n",
       "\n",
       "    .dataframe thead th {\n",
       "        text-align: right;\n",
       "    }\n",
       "</style>\n",
       "<table border=\"1\" class=\"dataframe\">\n",
       "  <thead>\n",
       "    <tr style=\"text-align: right;\">\n",
       "      <th></th>\n",
       "      <th>ratings</th>\n",
       "      <th>reviews</th>\n",
       "      <th>label</th>\n",
       "    </tr>\n",
       "  </thead>\n",
       "  <tbody>\n",
       "    <tr>\n",
       "      <th>0</th>\n",
       "      <td>5</td>\n",
       "      <td>가성비 갑  성능 좋아요  추천드립니다   내돈내산 후기입니다 구매 및 개봉일자  ...</td>\n",
       "      <td>1</td>\n",
       "    </tr>\n",
       "    <tr>\n",
       "      <th>1</th>\n",
       "      <td>5</td>\n",
       "      <td>전직 컴수리기사의 버즈  테스트 결과보고서 주 문         도 착       ...</td>\n",
       "      <td>1</td>\n",
       "    </tr>\n",
       "    <tr>\n",
       "      <th>2</th>\n",
       "      <td>5</td>\n",
       "      <td>가성비 그자체의 무선 이어폰입니다 내돈내산 솔직후기 구매일    두달가량 사용해보고...</td>\n",
       "      <td>1</td>\n",
       "    </tr>\n",
       "    <tr>\n",
       "      <th>3</th>\n",
       "      <td>5</td>\n",
       "      <td>러닝용으로 구매했는데 절대 안빠지고 잘 버텨주는 제품 작년 겨울에 쿠팡에서 산 저렴...</td>\n",
       "      <td>1</td>\n",
       "    </tr>\n",
       "    <tr>\n",
       "      <th>4</th>\n",
       "      <td>5</td>\n",
       "      <td>화이트 갤럭시 버즈   내돈내산  최고   삼성전자 갤럭시 버즈   블루투스 이어...</td>\n",
       "      <td>1</td>\n",
       "    </tr>\n",
       "  </tbody>\n",
       "</table>\n",
       "</div>"
      ],
      "text/plain": [
       "   ratings                                            reviews  label\n",
       "0        5  가성비 갑  성능 좋아요  추천드립니다   내돈내산 후기입니다 구매 및 개봉일자  ...      1\n",
       "1        5  전직 컴수리기사의 버즈  테스트 결과보고서 주 문         도 착       ...      1\n",
       "2        5  가성비 그자체의 무선 이어폰입니다 내돈내산 솔직후기 구매일    두달가량 사용해보고...      1\n",
       "3        5  러닝용으로 구매했는데 절대 안빠지고 잘 버텨주는 제품 작년 겨울에 쿠팡에서 산 저렴...      1\n",
       "4        5   화이트 갤럭시 버즈   내돈내산  최고   삼성전자 갤럭시 버즈   블루투스 이어...      1"
      ]
     },
     "execution_count": 14,
     "metadata": {},
     "output_type": "execute_result"
    }
   ],
   "source": [
    "naver_for_train = pd.read_excel('(0)naver_reviews.xlsx')\n",
    "coupang_for_test = pd.read_excel('(3)coupang_reviews.xlsx')\n",
    "\n",
    "# 0. 훈련 데이터와 테스트 데이터를 3:1 비율로 분리\n",
    "print('훈련용 리뷰의 개수 :', len(naver_for_train))\n",
    "print('테스트용 리뷰의 개수 :', len(coupang_for_test))\n",
    "# 훈련용 리뷰의 개수 : 200,000개\n",
    "# 테스트용 리뷰의 개수 : 14,060\n",
    "\n",
    "# 1. 라벨 분포 확인\n",
    "naver_for_train['label'].value_counts() # 0: 100037 & 1: 99963\n",
    "coupang_for_test['label'].value_counts() # 1: 13489 & 0: 571\n",
    "\n",
    "# 2. 한글 외의 문자 제거\n",
    "naver_for_train['reviews'] = naver_for_train['reviews'].apply(lambda x : re.sub(r'[^ ㄱ-ㅣ가-힣]+', \" \", x))\n",
    "coupang_for_test['reviews'] = coupang_for_test['reviews'].apply(lambda x : re.sub(r'[^ ㄱ-ㅣ가-힣]+', \" \", x))\n",
    "\n",
    "# naver_for_train.head()\n",
    "# coupang_for_test.head()"
   ]
  },
  {
   "cell_type": "code",
   "execution_count": 15,
   "metadata": {},
   "outputs": [
    {
     "data": {
      "text/plain": [
       "<200000x158594 sparse matrix of type '<class 'numpy.float64'>'\n",
       "\twith 4231021 stored elements in Compressed Sparse Row format>"
      ]
     },
     "execution_count": 15,
     "metadata": {},
     "output_type": "execute_result"
    }
   ],
   "source": [
    "# 3. 분석 모델 구축 전 작업\n",
    "\n",
    "# 1)형태소 분석 - 문장을 토큰화\n",
    "okt = Okt()\n",
    "def okt_tokenizer(text):\n",
    "    tokens = okt.morphs(text)\n",
    "    return tokens\n",
    "\n",
    "# 2)TF-IDF 벡터화에 사용할 tfidf 객체 생성 -> 벡터로 변환(transform)\n",
    "tfidf = TfidfVectorizer(tokenizer=okt_tokenizer, ngram_range=(1,2), min_df=3, max_df=0.9)\n",
    "tfidf.fit(naver_for_train['reviews'])\n",
    "model2_train_tfidf = tfidf.transform(naver_for_train['reviews'])\n",
    "model2_train_tfidf\n",
    "\n",
    "# 19분"
   ]
  },
  {
   "cell_type": "code",
   "execution_count": 16,
   "metadata": {},
   "outputs": [
    {
     "name": "stdout",
     "output_type": "stream",
     "text": [
      "Fitting 3 folds for each of 6 candidates, totalling 18 fits\n",
      "{'C': 3.5} 0.9153\n"
     ]
    }
   ],
   "source": [
    "# 4. 분석 모델 구축\n",
    "\n",
    "SA_lr = LogisticRegression(random_state=0)\n",
    "SA_lr.fit(model2_train_tfidf, naver_for_train['label'])\n",
    "\n",
    "params = {'C': [1,3,3.5,4,4.5,5]}\n",
    "SA_lr_grid_cv = GridSearchCV(SA_lr, param_grid=params, cv=3, scoring='accuracy', verbose=1)\n",
    "\n",
    "SA_lr_grid_cv.fit(model2_train_tfidf, naver_for_train['label'])\n",
    "\n",
    "print(SA_lr_grid_cv.best_params_, round(SA_lr_grid_cv.best_score_, 4))\n",
    "\n",
    "SA_lr_best2 = SA_lr_grid_cv.best_estimator_ \n",
    "\n",
    "# {'C': 3.5} 0.9153"
   ]
  },
  {
   "cell_type": "code",
   "execution_count": 17,
   "metadata": {},
   "outputs": [
    {
     "name": "stdout",
     "output_type": "stream",
     "text": [
      "감성 분석 정확도 :  0.652\n"
     ]
    }
   ],
   "source": [
    "# 5. 분석 모델 평가1 - 평가용 데이터를 이용하여 모델 정확도 확인하기\n",
    "\n",
    "model2_test_tfidf = tfidf.transform(coupang_for_test['reviews'])\n",
    "\n",
    "test_predict = SA_lr_best2.predict(model2_test_tfidf)\n",
    "\n",
    "# 평가용 데이터의 감성 결과값nsmc_test_df['label']과 감성 예측값test_predict을 기반으로 정확도를 계산accuracy_score( )하여출력\n",
    "\n",
    "print('감성 분석 모델의 정확도 : ', round(accuracy_score(coupang_for_test['label'], test_predict), 3))\n",
    "# 감성 분류 모델의 정확도가 65.2%!\n",
    "# * -> 각종 상품군으로 훈련시키고, 정작 평가는 무선 이어폰으로만 진행했으니, 모델 정확도가 낮아짐\n",
    "    # 선호하는 키워드들이 다르므로"
   ]
  },
  {
   "cell_type": "markdown",
   "metadata": {},
   "source": [
    "### => 감성 분석 정확도가 낮게 나왔으므로,\n",
    "- 정확한 원인에 관한 시각화 분석 진행"
   ]
  },
  {
   "cell_type": "code",
   "execution_count": null,
   "metadata": {},
   "outputs": [],
   "source": [
    "\n",
    "# todo: naver와 coupang의 각각의 키워드 빈도 분석 및 시각화 ㄱㄱ\n",
    "# todo: 딴 애긴데, 정확도 제일 높은걸로 예측모델 만들기 - https://wikidocs.net/94600 여기있는걸로\n",
    "    # xx퍼 확률로 긍정,부정 이렇게 나뉘는거 ㄷㄷ"
   ]
  }
 ],
 "metadata": {
  "kernelspec": {
   "display_name": "Python 3",
   "language": "python",
   "name": "python3"
  },
  "language_info": {
   "codemirror_mode": {
    "name": "ipython",
    "version": 3
   },
   "file_extension": ".py",
   "mimetype": "text/x-python",
   "name": "python",
   "nbconvert_exporter": "python",
   "pygments_lexer": "ipython3",
   "version": "3.10.4"
  }
 },
 "nbformat": 4,
 "nbformat_minor": 2
}
