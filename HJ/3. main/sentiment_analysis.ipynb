{
 "cells": [
  {
   "cell_type": "code",
   "execution_count": 3,
   "metadata": {},
   "outputs": [],
   "source": [
    "import re\n",
    "import warnings\n",
    "import pandas as pd\n",
    "import numpy as np\n",
    "import matplotlib.pyplot as plt\n",
    "import urllib.request\n",
    "from collections import Counter\n",
    "# from konlpy.tag import Mecab\n",
    "# from sklearn.model_selection import train_test_split\n",
    "# from tensorflow.keras.preprocessing.text import Tokenizer\n",
    "# from tensorflow.keras.preprocessing.sequence import pad_sequences\n",
    "\n",
    "warnings.filterwarnings(action = 'ignore') # warning 메시지 표시x"
   ]
  },
  {
   "cell_type": "markdown",
   "metadata": {},
   "source": [
    "### Step1. 훈련용 데이터\n",
    "- 0)네이버 쇼핑 리뷰 -> 200,000개 리뷰\n",
    "- 1)삼성 버즈 -> 7500개 리뷰\n",
    "- 2)애플 에어팟 -> 7500개 리뷰"
   ]
  },
  {
   "cell_type": "code",
   "execution_count": 31,
   "metadata": {},
   "outputs": [
    {
     "data": {
      "text/plain": [
       "구매자 평점\n",
       "5    5703\n",
       "4     838\n",
       "3     297\n",
       "1     159\n",
       "2     103\n",
       "Name: count, dtype: int64"
      ]
     },
     "execution_count": 31,
     "metadata": {},
     "output_type": "execute_result"
    }
   ],
   "source": [
    "# 0. 크롤링 데이터 읽기\n",
    "buds1_df = pd.read_excel('../2. crawling_data/buds/삼성전자 갤럭시 버즈 FE.xlsx') # 1500개\n",
    "buds2_df = pd.read_excel('../2. crawling_data/buds/삼성전자 갤럭시 버즈2.xlsx') # 1500\n",
    "buds2_pro_df = pd.read_excel('../2. crawling_data/buds/삼성전자 갤럭시 버즈2 프로.xlsx') # 1500\n",
    "buds_live_df = pd.read_excel('../2. crawling_data/buds/삼성전자 갤럭시버즈 라이브.xlsx') # 1500\n",
    "buds_plus_df = pd.read_excel('../2. crawling_data/buds/삼성전자 갤럭시버즈 플러스.xlsx') # 1100\n",
    "\n",
    "# 1. 5개 합치기\n",
    "samsung_all_buds = pd.concat([buds1_df, buds2_df, buds2_pro_df, buds_live_df, buds_plus_df], ignore_index=True)\n",
    "samsung_all_buds # 7100개\n",
    "\n",
    "# 2. 리뷰제목+리뷰내용 합친 컬럼 새로 만들고, 리뷰제목&내용 컬럼 drop\n",
    "samsung_all_buds['리뷰제목&내용'] = samsung_all_buds['리뷰 제목'] + \" \" + samsung_all_buds['리뷰 내용']\n",
    "samsung_all_buds.drop(['리뷰 제목', '리뷰 내용', '맛 만족도'], axis=1, inplace=True)\n",
    "samsung_all_buds\n",
    "\n",
    "# 3. 결측치 확인 및 제거 -> 리뷰제목&내용  7097 non-nul\n",
    "samsung_all_buds.info()\n",
    "\n",
    "\n",
    "# 4. 평점 분포 확인\n",
    "samsung_all_buds['구매자 평점'].value_counts()\n",
    "# 5    5703\n",
    "# 4     838\n",
    "# 3     297\n",
    "# 2     103\n",
    "# 1     159"
   ]
  },
  {
   "cell_type": "code",
   "execution_count": null,
   "metadata": {},
   "outputs": [],
   "source": []
  },
  {
   "cell_type": "code",
   "execution_count": null,
   "metadata": {},
   "outputs": [],
   "source": []
  },
  {
   "cell_type": "markdown",
   "metadata": {},
   "source": [
    "### Step2. dd"
   ]
  },
  {
   "cell_type": "code",
   "execution_count": null,
   "metadata": {},
   "outputs": [],
   "source": []
  },
  {
   "cell_type": "code",
   "execution_count": null,
   "metadata": {},
   "outputs": [],
   "source": []
  },
  {
   "cell_type": "code",
   "execution_count": null,
   "metadata": {},
   "outputs": [],
   "source": []
  },
  {
   "cell_type": "code",
   "execution_count": null,
   "metadata": {},
   "outputs": [],
   "source": []
  }
 ],
 "metadata": {
  "kernelspec": {
   "display_name": "Python 3",
   "language": "python",
   "name": "python3"
  },
  "language_info": {
   "codemirror_mode": {
    "name": "ipython",
    "version": 3
   },
   "file_extension": ".py",
   "mimetype": "text/x-python",
   "name": "python",
   "nbconvert_exporter": "python",
   "pygments_lexer": "ipython3",
   "version": "3.10.4"
  }
 },
 "nbformat": 4,
 "nbformat_minor": 2
}
