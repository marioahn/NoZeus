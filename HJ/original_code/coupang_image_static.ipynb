{
 "cells": [
  {
   "cell_type": "code",
   "execution_count": 2,
   "metadata": {},
   "outputs": [
    {
     "name": "stdout",
     "output_type": "stream",
     "text": [
      "이미지 파일명: 93330f35038c8cd8fe6b03576ee91f0ad7163682dcf54dc2d472bbce178e.png\n",
      "이미지 파일명: b148b59f-9929-4d01-a21c-c0b392f329c4.png\n",
      "이미지 파일명: bd309cbc-8037-4bda-8f1e-9f605183e9f9.png\n",
      "이미지 파일명: 4838968308200918-2e1e7e45-c07e-4ce6-b5b4-128239aa3027.jpg\n",
      "이미지 파일명: f5a24047f3fd1c7a26ad3eaa08ec54081e5e42d3111a693861b9f983e8dd.jpg\n",
      "이미지 파일명: d8642a866c619ee4e0dd8d440b3f326fee4f35c06224cf795713db37953e.jpg\n",
      "이미지 파일명: 3734070857172016-405d22f7-02c7-48a4-bea3-bc8b15be3ea6.jpg\n"
     ]
    }
   ],
   "source": [
    "# Ⅲ. reshot말고, 쿠팡에서도 다시 한번 해보기\n",
    "import requests, os\n",
    "from bs4 import BeautifulSoup\n",
    "\n",
    "coupang_url = 'https://www.coupang.com/np/search?component=&q=%EC%97%90%EC%96%B4%ED%8C%9F+%EB%B2%84%EC%A6%88&channel=user'\n",
    "# 참고: https://rimeestore.tistory.com/entry/웹스크래핑-Beautifulsoup4-활용-2-쿠팡\n",
    "# 참고+: https://domdom.tistory.com/258\n",
    "    # user-agent뿐만 아니라, accept-language도 필요함\n",
    "header = {'User-Agent' : 'Mozilla/5.0 (Windows NT 10.0; Win64; x64) AppleWebKit/537.36 (KHTML, like Gecko) Chrome/122.0.0.0 Safari/537.36',\n",
    "          \"Accept-Language\": \"ko-KR,ko;q=0.8,en-US;q=0.5,en;q=0.3\"}\n",
    "\n",
    "# 1. url->주소\n",
    "def get_image_url(url):\n",
    "    html_image_url = requests.get(url, headers=header).text\n",
    "    soup_image_url = BeautifulSoup(html_image_url, 'lxml')\n",
    "    image_elements = soup_image_url.select('ul#productList dt img')\n",
    "\n",
    "    if (image_elements != None):\n",
    "        image_urls = []\n",
    "        for image_element in image_elements:\n",
    "            image_urls.append(image_element.get('src'))\n",
    "        return image_urls\n",
    "    else:\n",
    "        return None\n",
    "\n",
    "# 2. 폴더 지정하여, 이미지 주소에서 이미지 내려받기\n",
    "def download_image(img_folder, img_url):\n",
    "    if (img_url != None):\n",
    "        html_image = requests.get(img_url)\n",
    "        image_file = open(os.path.join(img_folder, os.path.basename(img_url)), 'wb')\n",
    "\n",
    "        chunk_size = 1000000\n",
    "        for chunk in html_image.iter_content(chunk_size):\n",
    "            image_file.write(chunk)\n",
    "            image_file.close()\n",
    "        print(f'이미지 파일명: {os.path.basename(img_url)}')\n",
    "    else:\n",
    "        print('내려받을 이미지가 없습니다')\n",
    "\n",
    "\n",
    "# 3. ㄱㄱ\n",
    "figure_folder = 'coupang_image'\n",
    "if not os.path.exists(figure_folder):\n",
    "    os.makedirs(figure_folder)\n",
    "\n",
    "coupang_image_urls = get_image_url(coupang_url)\n",
    "\n",
    "num_of_download_image = 7\n",
    "\n",
    "# coupang_image_urls[0]\n",
    "for k in range(num_of_download_image):\n",
    "    # 해보니까, https:안붙이면 에러뜸 -> 붙여주기\n",
    "    tmp = 'https:' + coupang_image_urls[k]\n",
    "    download_image(figure_folder, tmp)"
   ]
  },
  {
   "cell_type": "code",
   "execution_count": null,
   "metadata": {},
   "outputs": [],
   "source": []
  }
 ],
 "metadata": {
  "kernelspec": {
   "display_name": "Python 3",
   "language": "python",
   "name": "python3"
  },
  "language_info": {
   "codemirror_mode": {
    "name": "ipython",
    "version": 3
   },
   "file_extension": ".py",
   "mimetype": "text/x-python",
   "name": "python",
   "nbconvert_exporter": "python",
   "pygments_lexer": "ipython3",
   "version": "3.11.9"
  }
 },
 "nbformat": 4,
 "nbformat_minor": 2
}
